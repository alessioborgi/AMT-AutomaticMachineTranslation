{
 "cells": [
  {
   "cell_type": "markdown",
   "id": "7e1e2f14",
   "metadata": {},
   "source": [
    "### ADD TRANSLATION COLUMN FROM ANOTHER FILE"
   ]
  },
  {
   "cell_type": "code",
   "execution_count": null,
   "id": "4d97a5c8",
   "metadata": {},
   "outputs": [
    {
     "ename": "ValueError",
     "evalue": "extra.jsonl contains fewer than 30 lines!",
     "output_type": "error",
     "traceback": [
      "\u001b[0;31m---------------------------------------------------------------------------\u001b[0m",
      "\u001b[0;31mValueError\u001b[0m                                Traceback (most recent call last)",
      "Cell \u001b[0;32mIn[12], line 26\u001b[0m\n\u001b[1;32m     23\u001b[0m             \u001b[38;5;28;01mbreak\u001b[39;00m\n\u001b[1;32m     25\u001b[0m \u001b[38;5;28;01mif\u001b[39;00m \u001b[38;5;28mlen\u001b[39m(extra_values) \u001b[38;5;241m<\u001b[39m \u001b[38;5;241m30\u001b[39m:\n\u001b[0;32m---> 26\u001b[0m     \u001b[38;5;28;01mraise\u001b[39;00m \u001b[38;5;167;01mValueError\u001b[39;00m(\u001b[38;5;124m'\u001b[39m\u001b[38;5;124mextra.jsonl contains fewer than 30 lines!\u001b[39m\u001b[38;5;124m'\u001b[39m)\n\u001b[1;32m     28\u001b[0m \u001b[38;5;66;03m# Step 2: Read main.jsonl and update first 30 rows with new column\u001b[39;00m\n\u001b[1;32m     29\u001b[0m main_rows \u001b[38;5;241m=\u001b[39m []\n",
      "\u001b[0;31mValueError\u001b[0m: extra.jsonl contains fewer than 30 lines!"
     ]
    }
   ],
   "source": [
    "import json\n",
    "\n",
    "main_file = '/Users/alessioborgi/GitHub/AMT-AutomaticMachineTranslation/gold_labels_first30s.jsonl'\n",
    "extra_file = '/Users/alessioborgi/GitHub/AMT-AutomaticMachineTranslation/results/llm_based/chain_of_thoughts_prompting/BorgiNonModernToModern-hw2_transl-gemma-fewshot-cot.jsonl'\n",
    "new_field = 'gemma_translation_fewshot-cot'  # Name of the new column to add\n",
    "extra_field = 'gemma_translation'        # Field to read from extra_file\n",
    "\n",
    "# Step 1: Read the first 30 values from the extra file\n",
    "extra_values = []\n",
    "with open(extra_file, 'r', encoding='utf-8') as f:\n",
    "    for i, line in enumerate(f):\n",
    "        try:\n",
    "            row = json.loads(line)\n",
    "        except json.JSONDecodeError as e:\n",
    "            print(f\"Error in line {i}: {line}\")\n",
    "            raise e\n",
    "\n",
    "    for i, line in enumerate(f):\n",
    "        if i < 30:\n",
    "            data = json.loads(line)\n",
    "            extra_values.append(data[extra_field])\n",
    "        else:\n",
    "            break\n",
    "\n",
    "if len(extra_values) < 30:\n",
    "    print (len(extra_values))\n",
    "    raise ValueError('extra.jsonl contains fewer than 30 lines!')\n",
    "\n",
    "# Step 2: Read main.jsonl and update first 30 rows with new column\n",
    "main_rows = []\n",
    "with open(main_file, 'r', encoding='utf-8') as f:\n",
    "    for i, line in enumerate(f):\n",
    "        row = json.loads(line)\n",
    "        if i < 30:\n",
    "            row[new_field] = extra_values[i]\n",
    "        main_rows.append(row)\n",
    "\n",
    "# Step 3: Overwrite main.jsonl with updated content\n",
    "with open(main_file, 'w', encoding='utf-8') as f:\n",
    "    for row in main_rows:\n",
    "        f.write(json.dumps(row, ensure_ascii=False) + '\\n')\n",
    "\n",
    "print(f\"Added column '{new_field}' to the first 30 lines in '{main_file}' using values from '{extra_file}'.\")\n"
   ]
  },
  {
   "cell_type": "markdown",
   "id": "0c184ab9",
   "metadata": {},
   "source": [
    "### ADD NEW COLUMN BASED ON ANOTHER .JSONL"
   ]
  },
  {
   "cell_type": "code",
   "execution_count": 4,
   "id": "670bfbbb",
   "metadata": {},
   "outputs": [
    {
     "name": "stdout",
     "output_type": "stream",
     "text": [
      "Done! Output written to: /Users/alessioborgi/GitHub/AMT-AutomaticMachineTranslation/gold_labels_first30s.jsonl\n"
     ]
    }
   ],
   "source": [
    "import json\n",
    "\n",
    "# Filenames\n",
    "main_file = '/Users/alessioborgi/GitHub/AMT-AutomaticMachineTranslation/gold_labels_first30s.jsonl'\n",
    "new_column_file = 'new_column.jsonl'\n",
    "output_file = main_file\n",
    "\n",
    "# Read main_file.jsonl lines\n",
    "with open(main_file, 'r', encoding='utf8') as f_main:\n",
    "    main_lines = [json.loads(line) for line in f_main]\n",
    "\n",
    "# Read new_column.jsonl lines (each line is a dict with \"gemma_translation_fewshot_gold_label_scores\")\n",
    "with open(new_column_file, 'r', encoding='utf8') as f_new:\n",
    "    new_col_lines = [json.loads(line) for line in f_new]\n",
    "\n",
    "# Sanity check\n",
    "assert len(main_lines) >= len(new_col_lines), \"main_file has fewer lines than new_column_file!\"\n",
    "\n",
    "# Merge: Add the new column to each main_file entry\n",
    "for i, extra in enumerate(new_col_lines):\n",
    "    # Add the (single) new key-value to the main dict\n",
    "    main_lines[i].update(extra)\n",
    "\n",
    "# Write the merged lines to a new file\n",
    "with open(output_file, 'w', encoding='utf8') as f_out:\n",
    "    for entry in main_lines:\n",
    "        f_out.write(json.dumps(entry, ensure_ascii=False) + '\\n')\n",
    "\n",
    "print(f\"Done! Output written to: {output_file}\")\n"
   ]
  },
  {
   "cell_type": "markdown",
   "id": "4f71d01b",
   "metadata": {},
   "source": [
    "### ELIMINATE A COLUMN"
   ]
  },
  {
   "cell_type": "code",
   "execution_count": 8,
   "id": "7b8c1da8",
   "metadata": {},
   "outputs": [
    {
     "name": "stdout",
     "output_type": "stream",
     "text": [
      "Done! Saved to /Users/alessioborgi/GitHub/AMT-AutomaticMachineTranslation/gold_labels_first30s.jsonl\n"
     ]
    }
   ],
   "source": [
    "import json\n",
    "\n",
    "input_file = '/Users/alessioborgi/GitHub/AMT-AutomaticMachineTranslation/gold_labels_first30s.jsonl'\n",
    "output_file = '/Users/alessioborgi/GitHub/AMT-AutomaticMachineTranslation/gold_labels_first30s.jsonl'\n",
    "key_to_remove = \"llama_translation_fewshot-cot\"\n",
    "\n",
    "with open(input_file, \"r\", encoding=\"utf-8\") as fin, open(output_file, \"w\", encoding=\"utf-8\") as fout:\n",
    "    for line in fin:\n",
    "        data = json.loads(line)\n",
    "        if key_to_remove in data:\n",
    "            del data[key_to_remove]\n",
    "        fout.write(json.dumps(data, ensure_ascii=False) + \"\\n\")\n",
    "\n",
    "print(f\"Done! Saved to {output_file}\")\n"
   ]
  }
 ],
 "metadata": {
  "kernelspec": {
   "display_name": ".venv",
   "language": "python",
   "name": "python3"
  },
  "language_info": {
   "codemirror_mode": {
    "name": "ipython",
    "version": 3
   },
   "file_extension": ".py",
   "mimetype": "text/x-python",
   "name": "python",
   "nbconvert_exporter": "python",
   "pygments_lexer": "ipython3",
   "version": "3.9.6"
  }
 },
 "nbformat": 4,
 "nbformat_minor": 5
}
